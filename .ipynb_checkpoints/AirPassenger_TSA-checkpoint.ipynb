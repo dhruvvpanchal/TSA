{
 "cells": [
  {
   "cell_type": "markdown",
   "id": "8e2369bd",
   "metadata": {},
   "source": [
    "## Import of libraries"
   ]
  },
  {
   "cell_type": "code",
   "execution_count": 1,
   "id": "36aad365",
   "metadata": {},
   "outputs": [],
   "source": [
    "import pandas as pd\n",
    "import numpy as np\n",
    "import matplotlib.pyplot as plt"
   ]
  },
  {
   "cell_type": "markdown",
   "id": "18eef2ae",
   "metadata": {},
   "source": [
    "## Setup Time Series"
   ]
  },
  {
   "cell_type": "code",
   "execution_count": 3,
   "id": "1a54cc0b",
   "metadata": {},
   "outputs": [
    {
     "data": {
      "text/html": [
       "<div>\n",
       "<style scoped>\n",
       "    .dataframe tbody tr th:only-of-type {\n",
       "        vertical-align: middle;\n",
       "    }\n",
       "\n",
       "    .dataframe tbody tr th {\n",
       "        vertical-align: top;\n",
       "    }\n",
       "\n",
       "    .dataframe thead th {\n",
       "        text-align: right;\n",
       "    }\n",
       "</style>\n",
       "<table border=\"1\" class=\"dataframe\">\n",
       "  <thead>\n",
       "    <tr style=\"text-align: right;\">\n",
       "      <th></th>\n",
       "      <th>Month</th>\n",
       "      <th>#Passengers</th>\n",
       "    </tr>\n",
       "  </thead>\n",
       "  <tbody>\n",
       "    <tr>\n",
       "      <th>0</th>\n",
       "      <td>1949-01</td>\n",
       "      <td>112</td>\n",
       "    </tr>\n",
       "    <tr>\n",
       "      <th>1</th>\n",
       "      <td>1949-02</td>\n",
       "      <td>118</td>\n",
       "    </tr>\n",
       "    <tr>\n",
       "      <th>2</th>\n",
       "      <td>1949-03</td>\n",
       "      <td>132</td>\n",
       "    </tr>\n",
       "    <tr>\n",
       "      <th>3</th>\n",
       "      <td>1949-04</td>\n",
       "      <td>129</td>\n",
       "    </tr>\n",
       "    <tr>\n",
       "      <th>4</th>\n",
       "      <td>1949-05</td>\n",
       "      <td>121</td>\n",
       "    </tr>\n",
       "  </tbody>\n",
       "</table>\n",
       "</div>"
      ],
      "text/plain": [
       "     Month  #Passengers\n",
       "0  1949-01          112\n",
       "1  1949-02          118\n",
       "2  1949-03          132\n",
       "3  1949-04          129\n",
       "4  1949-05          121"
      ]
     },
     "execution_count": 3,
     "metadata": {},
     "output_type": "execute_result"
    }
   ],
   "source": [
    "df = pd.read_csv(\"/Users/dhruvpanchal/Desktop/TimeSeries/AirPassengers.csv\")\n",
    "df.head()"
   ]
  },
  {
   "cell_type": "code",
   "execution_count": 4,
   "id": "2d518c44",
   "metadata": {},
   "outputs": [
    {
     "name": "stdout",
     "output_type": "stream",
     "text": [
      "<class 'pandas.core.frame.DataFrame'>\n",
      "RangeIndex: 144 entries, 0 to 143\n",
      "Data columns (total 2 columns):\n",
      " #   Column       Non-Null Count  Dtype \n",
      "---  ------       --------------  ----- \n",
      " 0   Month        144 non-null    object\n",
      " 1   #Passengers  144 non-null    int64 \n",
      "dtypes: int64(1), object(1)\n",
      "memory usage: 2.4+ KB\n"
     ]
    }
   ],
   "source": [
    "df.info()"
   ]
  },
  {
   "cell_type": "code",
   "execution_count": 5,
   "id": "63013f1e",
   "metadata": {},
   "outputs": [
    {
     "data": {
      "text/html": [
       "<div>\n",
       "<style scoped>\n",
       "    .dataframe tbody tr th:only-of-type {\n",
       "        vertical-align: middle;\n",
       "    }\n",
       "\n",
       "    .dataframe tbody tr th {\n",
       "        vertical-align: top;\n",
       "    }\n",
       "\n",
       "    .dataframe thead th {\n",
       "        text-align: right;\n",
       "    }\n",
       "</style>\n",
       "<table border=\"1\" class=\"dataframe\">\n",
       "  <thead>\n",
       "    <tr style=\"text-align: right;\">\n",
       "      <th></th>\n",
       "      <th>#Passengers</th>\n",
       "    </tr>\n",
       "  </thead>\n",
       "  <tbody>\n",
       "    <tr>\n",
       "      <th>count</th>\n",
       "      <td>144.000000</td>\n",
       "    </tr>\n",
       "    <tr>\n",
       "      <th>mean</th>\n",
       "      <td>280.298611</td>\n",
       "    </tr>\n",
       "    <tr>\n",
       "      <th>std</th>\n",
       "      <td>119.966317</td>\n",
       "    </tr>\n",
       "    <tr>\n",
       "      <th>min</th>\n",
       "      <td>104.000000</td>\n",
       "    </tr>\n",
       "    <tr>\n",
       "      <th>25%</th>\n",
       "      <td>180.000000</td>\n",
       "    </tr>\n",
       "    <tr>\n",
       "      <th>50%</th>\n",
       "      <td>265.500000</td>\n",
       "    </tr>\n",
       "    <tr>\n",
       "      <th>75%</th>\n",
       "      <td>360.500000</td>\n",
       "    </tr>\n",
       "    <tr>\n",
       "      <th>max</th>\n",
       "      <td>622.000000</td>\n",
       "    </tr>\n",
       "  </tbody>\n",
       "</table>\n",
       "</div>"
      ],
      "text/plain": [
       "       #Passengers\n",
       "count   144.000000\n",
       "mean    280.298611\n",
       "std     119.966317\n",
       "min     104.000000\n",
       "25%     180.000000\n",
       "50%     265.500000\n",
       "75%     360.500000\n",
       "max     622.000000"
      ]
     },
     "execution_count": 5,
     "metadata": {},
     "output_type": "execute_result"
    }
   ],
   "source": [
    "df.describe()"
   ]
  },
  {
   "cell_type": "code",
   "execution_count": 6,
   "id": "51ea8060",
   "metadata": {},
   "outputs": [],
   "source": [
    "df['Month']= pd.to_datetime(df['Month'])"
   ]
  },
  {
   "cell_type": "code",
   "execution_count": 7,
   "id": "30c073c0",
   "metadata": {},
   "outputs": [
    {
     "name": "stdout",
     "output_type": "stream",
     "text": [
      "<class 'pandas.core.frame.DataFrame'>\n",
      "RangeIndex: 144 entries, 0 to 143\n",
      "Data columns (total 2 columns):\n",
      " #   Column       Non-Null Count  Dtype         \n",
      "---  ------       --------------  -----         \n",
      " 0   Month        144 non-null    datetime64[ns]\n",
      " 1   #Passengers  144 non-null    int64         \n",
      "dtypes: datetime64[ns](1), int64(1)\n",
      "memory usage: 2.4 KB\n"
     ]
    }
   ],
   "source": [
    "df.info()"
   ]
  },
  {
   "cell_type": "code",
   "execution_count": 8,
   "id": "ece60461",
   "metadata": {},
   "outputs": [
    {
     "data": {
      "text/plain": [
       "[<matplotlib.lines.Line2D at 0x7fa564111f40>]"
      ]
     },
     "execution_count": 8,
     "metadata": {},
     "output_type": "execute_result"
    },
    {
     "data": {
      "image/png": "[encoded data removed]",
      "text/plain": [
       "<Figure size 432x288 with 1 Axes>"
      ]
     },
     "metadata": {
      "needs_background": "light"
     },
     "output_type": "display_data"
    }
   ],
   "source": [
    "x = df[\"Month\"]\n",
    "y = df[\"#Passengers\"]\n",
    "plt.plot(x,y)"
   ]
  },
  {
   "cell_type": "markdown",
   "id": "9bf4c246",
   "metadata": {},
   "source": [
    "## Stationarity"
   ]
  },
  {
   "cell_type": "code",
   "execution_count": 9,
   "id": "c6c2479b",
   "metadata": {},
   "outputs": [],
   "source": [
    "# Required Libraries\n",
    "from statsmodels.tsa.stattools import adfuller"
   ]
  },
  {
   "cell_type": "code",
   "execution_count": 10,
   "id": "d598728d",
   "metadata": {},
   "outputs": [],
   "source": [
    "def adf_calculation(col_name):\n",
    "    adf_test = adfuller(col_name)\n",
    "    adf_output = pd.Series(adf_test[0:4], index=[\"Test-Statistic\", \"p-value\", \"Lags Used\", \"Number of observations\"])\n",
    "    for key, value in adf_test[4].items():\n",
    "        adf_output[\"critical_value (%s) \"%key] = value\n",
    "    print(adf_output)"
   ]
  },
  {
   "cell_type": "code",
   "execution_count": 11,
   "id": "ba1cb13f",
   "metadata": {},
   "outputs": [
    {
     "name": "stdout",
     "output_type": "stream",
     "text": [
      "Test-Statistic              0.815369\n",
      "p-value                     0.991880\n",
      "Lags Used                  13.000000\n",
      "Number of observations    130.000000\n",
      "critical_value (1%)        -3.481682\n",
      "critical_value (5%)        -2.884042\n",
      "critical_value (10%)       -2.578770\n",
      "dtype: float64\n"
     ]
    }
   ],
   "source": [
    "adf_calculation(df[\"#Passengers\"])"
   ]
  },
  {
   "cell_type": "code",
   "execution_count": 12,
   "id": "8415307f",
   "metadata": {},
   "outputs": [
    {
     "name": "stdout",
     "output_type": "stream",
     "text": [
      "Test-Statistic              0.418755\n",
      "p-value                     0.982183\n",
      "Lags Used                  12.000000\n",
      "Number of observations    131.000000\n",
      "critical_value (1%)        -3.481282\n",
      "critical_value (5%)        -2.883868\n",
      "critical_value (10%)       -2.578677\n",
      "dtype: float64\n"
     ]
    }
   ],
   "source": [
    "adf_calculation(df[\"Month\"])"
   ]
  },
  {
   "cell_type": "code",
   "execution_count": 13,
   "id": "3fdfaefc",
   "metadata": {},
   "outputs": [
    {
     "data": {
      "text/plain": [
       "<AxesSubplot:>"
      ]
     },
     "execution_count": 13,
     "metadata": {},
     "output_type": "execute_result"
    },
    {
     "data": {
      "image/png": "[encoded data removed]",
      "text/plain": [
       "<Figure size 432x288 with 1 Axes>"
      ]
     },
     "metadata": {
      "needs_background": "light"
     },
     "output_type": "display_data"
    }
   ],
   "source": [
    "df[\"#Passengers\"].plot()"
   ]
  },
  {
   "cell_type": "code",
   "execution_count": 14,
   "id": "73ef753f",
   "metadata": {},
   "outputs": [],
   "source": [
    "# Performing differentiation\n",
    "df[\"Diff_passengers\"] = df[\"#Passengers\"] - df[\"#Passengers\"].shift(1)\n",
    "df[\"Diff_passengers\"] = df[\"Diff_passengers\"].dropna()\n",
    "df = df.dropna()"
   ]
  },
  {
   "cell_type": "code",
   "execution_count": 15,
   "id": "cdf201e7",
   "metadata": {},
   "outputs": [
    {
     "name": "stdout",
     "output_type": "stream",
     "text": [
      "Test-Statistic             -2.829267\n",
      "p-value                     0.054213\n",
      "Lags Used                  12.000000\n",
      "Number of observations    130.000000\n",
      "critical_value (1%)        -3.481682\n",
      "critical_value (5%)        -2.884042\n",
      "critical_value (10%)       -2.578770\n",
      "dtype: float64\n"
     ]
    }
   ],
   "source": [
    "adf_calculation(df[\"Diff_passengers\"]) # Converted non-stationary to stationary"
   ]
  },
  {
   "cell_type": "code",
   "execution_count": 16,
   "id": "f007a538",
   "metadata": {},
   "outputs": [],
   "source": [
    "df[\"Second_Passengers\"] = df[\"Diff_passengers\"] - df[\"Diff_passengers\"].shift(1)\n",
    "df = df.dropna()"
   ]
  },
  {
   "cell_type": "code",
   "execution_count": 17,
   "id": "289d713a",
   "metadata": {},
   "outputs": [
    {
     "name": "stdout",
     "output_type": "stream",
     "text": [
      "Test-Statistic           -1.638423e+01\n",
      "p-value                   2.732892e-29\n",
      "Lags Used                 1.100000e+01\n",
      "Number of observations    1.300000e+02\n",
      "critical_value (1%)      -3.481682e+00\n",
      "critical_value (5%)      -2.884042e+00\n",
      "critical_value (10%)     -2.578770e+00\n",
      "dtype: float64\n"
     ]
    }
   ],
   "source": [
    "adf_calculation(df[\"Second_Passengers\"])"
   ]
  },
  {
   "cell_type": "code",
   "execution_count": 18,
   "id": "dfea0c82",
   "metadata": {},
   "outputs": [],
   "source": [
    "df[\"Diff_Month\"] = df[\"Month\"] - df[\"Month\"].shift(1)\n",
    "df = df.dropna()"
   ]
  },
  {
   "cell_type": "code",
   "execution_count": 19,
   "id": "68d6c6be",
   "metadata": {},
   "outputs": [
    {
     "name": "stdout",
     "output_type": "stream",
     "text": [
      "Test-Statistic              0.460132\n",
      "p-value                     0.983610\n",
      "Lags Used                  11.000000\n",
      "Number of observations    129.000000\n",
      "critical_value (1%)        -3.482088\n",
      "critical_value (5%)        -2.884219\n",
      "critical_value (10%)       -2.578864\n",
      "dtype: float64\n"
     ]
    }
   ],
   "source": [
    "adf_calculation(df[\"Diff_Month\"])"
   ]
  },
  {
   "cell_type": "code",
   "execution_count": 20,
   "id": "5cab5fe3",
   "metadata": {},
   "outputs": [],
   "source": [
    "def log_transform(df_column : pd.Series) -> pd.Series:\n",
    "    return np.log2(df_column)"
   ]
  },
  {
   "cell_type": "code",
   "execution_count": 21,
   "id": "0b69cf88",
   "metadata": {},
   "outputs": [],
   "source": [
    "df[\"log_passengers\"] = log_transform(df[\"#Passengers\"])"
   ]
  },
  {
   "cell_type": "code",
   "execution_count": 22,
   "id": "2360fdbf",
   "metadata": {},
   "outputs": [
    {
     "name": "stdout",
     "output_type": "stream",
     "text": [
      "Test-Statistic             -2.011345\n",
      "p-value                     0.281621\n",
      "Lags Used                  14.000000\n",
      "Number of observations    126.000000\n",
      "critical_value (1%)        -3.483346\n",
      "critical_value (5%)        -2.884766\n",
      "critical_value (10%)       -2.579156\n",
      "dtype: float64\n"
     ]
    }
   ],
   "source": [
    "adf_calculation(df[\"log_passengers\"])"
   ]
  },
  {
   "cell_type": "code",
   "execution_count": 23,
   "id": "d42916b7",
   "metadata": {},
   "outputs": [
    {
     "data": {
      "text/plain": [
       "<AxesSubplot:>"
      ]
     },
     "execution_count": 23,
     "metadata": {},
     "output_type": "execute_result"
    },
    {
     "data": {
      "image/png": "[encoded data removed]",
      "text/plain": [
       "<Figure size 432x288 with 1 Axes>"
      ]
     },
     "metadata": {
      "needs_background": "light"
     },
     "output_type": "display_data"
    }
   ],
   "source": [
    "df[\"log_passengers\"].plot()"
   ]
  },
  {
   "cell_type": "code",
   "execution_count": 24,
   "id": "f3d9d1e3",
   "metadata": {},
   "outputs": [],
   "source": [
    "df[\"F_diff_log_passengers\"] = df[\"log_passengers\"] - df[\"log_passengers\"].shift(1) \n",
    "df = df.dropna()"
   ]
  },
  {
   "cell_type": "code",
   "execution_count": 25,
   "id": "dc7c14f4",
   "metadata": {},
   "outputs": [
    {
     "data": {
      "text/plain": [
       "<AxesSubplot:>"
      ]
     },
     "execution_count": 25,
     "metadata": {},
     "output_type": "execute_result"
    },
    {
     "data": {
      "image/png": "[encoded data removed]",
      "text/plain": [
       "<Figure size 432x288 with 1 Axes>"
      ]
     },
     "metadata": {
      "needs_background": "light"
     },
     "output_type": "display_data"
    }
   ],
   "source": [
    "df[\"F_diff_log_passengers\"].plot()"
   ]
  },
  {
   "cell_type": "code",
   "execution_count": 26,
   "id": "d94152d2",
   "metadata": {},
   "outputs": [
    {
     "name": "stdout",
     "output_type": "stream",
     "text": [
      "Test-Statistic             -2.588302\n",
      "p-value                     0.095439\n",
      "Lags Used                  14.000000\n",
      "Number of observations    125.000000\n",
      "critical_value (1%)        -3.483779\n",
      "critical_value (5%)        -2.884954\n",
      "critical_value (10%)       -2.579257\n",
      "dtype: float64\n"
     ]
    }
   ],
   "source": [
    "adf_calculation(df[\"F_diff_log_passengers\"])"
   ]
  },
  {
   "cell_type": "code",
   "execution_count": 27,
   "id": "fef8c613",
   "metadata": {},
   "outputs": [
    {
     "data": {
      "text/plain": [
       "<AxesSubplot:>"
      ]
     },
     "execution_count": 27,
     "metadata": {},
     "output_type": "execute_result"
    },
    {
     "data": {
      "image/png": "[encoded data removed]",
      "text/plain": [
       "<Figure size 432x288 with 1 Axes>"
      ]
     },
     "metadata": {
      "needs_background": "light"
     },
     "output_type": "display_data"
    }
   ],
   "source": [
    "df[\"#Passengers\"].plot()"
   ]
  },
  {
   "cell_type": "code",
   "execution_count": 28,
   "id": "b5d3286e",
   "metadata": {},
   "outputs": [],
   "source": [
    "def square_root(df_column: pd.Series) -> pd.Series:\n",
    "    return np.sqrt(df_column)"
   ]
  },
  {
   "cell_type": "code",
   "execution_count": 29,
   "id": "f6f79ce7",
   "metadata": {},
   "outputs": [],
   "source": [
    "df[\"sq_passengers\"] = square_root(df[\"#Passengers\"])"
   ]
  },
  {
   "cell_type": "code",
   "execution_count": 30,
   "id": "0fe1ddf8",
   "metadata": {},
   "outputs": [
    {
     "name": "stdout",
     "output_type": "stream",
     "text": [
      "Test-Statistic             -0.540209\n",
      "p-value                     0.883928\n",
      "Lags Used                  13.000000\n",
      "Number of observations    126.000000\n",
      "critical_value (1%)        -3.483346\n",
      "critical_value (5%)        -2.884766\n",
      "critical_value (10%)       -2.579156\n",
      "dtype: float64\n"
     ]
    }
   ],
   "source": [
    "adf_calculation(df[\"sq_passengers\"])"
   ]
  },
  {
   "cell_type": "markdown",
   "id": "7867c82c",
   "metadata": {},
   "source": [
    "## ACF"
   ]
  },
  {
   "cell_type": "code",
   "execution_count": 31,
   "id": "1d546988",
   "metadata": {},
   "outputs": [
    {
     "data": {
      "text/html": [
       "<div>\n",
       "<style scoped>\n",
       "    .dataframe tbody tr th:only-of-type {\n",
       "        vertical-align: middle;\n",
       "    }\n",
       "\n",
       "    .dataframe tbody tr th {\n",
       "        vertical-align: top;\n",
       "    }\n",
       "\n",
       "    .dataframe thead th {\n",
       "        text-align: right;\n",
       "    }\n",
       "</style>\n",
       "<table border=\"1\" class=\"dataframe\">\n",
       "  <thead>\n",
       "    <tr style=\"text-align: right;\">\n",
       "      <th></th>\n",
       "      <th>Month</th>\n",
       "      <th>#Passengers</th>\n",
       "      <th>Diff_passengers</th>\n",
       "      <th>Second_Passengers</th>\n",
       "      <th>Diff_Month</th>\n",
       "      <th>log_passengers</th>\n",
       "      <th>F_diff_log_passengers</th>\n",
       "      <th>sq_passengers</th>\n",
       "    </tr>\n",
       "  </thead>\n",
       "  <tbody>\n",
       "    <tr>\n",
       "      <th>4</th>\n",
       "      <td>1949-05-01</td>\n",
       "      <td>121</td>\n",
       "      <td>-8.0</td>\n",
       "      <td>-5.0</td>\n",
       "      <td>30 days</td>\n",
       "      <td>6.918863</td>\n",
       "      <td>-0.092364</td>\n",
       "      <td>11.000000</td>\n",
       "    </tr>\n",
       "    <tr>\n",
       "      <th>5</th>\n",
       "      <td>1949-06-01</td>\n",
       "      <td>135</td>\n",
       "      <td>14.0</td>\n",
       "      <td>22.0</td>\n",
       "      <td>31 days</td>\n",
       "      <td>7.076816</td>\n",
       "      <td>0.157952</td>\n",
       "      <td>11.618950</td>\n",
       "    </tr>\n",
       "    <tr>\n",
       "      <th>6</th>\n",
       "      <td>1949-07-01</td>\n",
       "      <td>148</td>\n",
       "      <td>13.0</td>\n",
       "      <td>-1.0</td>\n",
       "      <td>30 days</td>\n",
       "      <td>7.209453</td>\n",
       "      <td>0.132638</td>\n",
       "      <td>12.165525</td>\n",
       "    </tr>\n",
       "    <tr>\n",
       "      <th>7</th>\n",
       "      <td>1949-08-01</td>\n",
       "      <td>148</td>\n",
       "      <td>0.0</td>\n",
       "      <td>-13.0</td>\n",
       "      <td>31 days</td>\n",
       "      <td>7.209453</td>\n",
       "      <td>0.000000</td>\n",
       "      <td>12.165525</td>\n",
       "    </tr>\n",
       "    <tr>\n",
       "      <th>8</th>\n",
       "      <td>1949-09-01</td>\n",
       "      <td>136</td>\n",
       "      <td>-12.0</td>\n",
       "      <td>-12.0</td>\n",
       "      <td>31 days</td>\n",
       "      <td>7.087463</td>\n",
       "      <td>-0.121991</td>\n",
       "      <td>11.661904</td>\n",
       "    </tr>\n",
       "    <tr>\n",
       "      <th>...</th>\n",
       "      <td>...</td>\n",
       "      <td>...</td>\n",
       "      <td>...</td>\n",
       "      <td>...</td>\n",
       "      <td>...</td>\n",
       "      <td>...</td>\n",
       "      <td>...</td>\n",
       "      <td>...</td>\n",
       "    </tr>\n",
       "    <tr>\n",
       "      <th>139</th>\n",
       "      <td>1960-08-01</td>\n",
       "      <td>606</td>\n",
       "      <td>-16.0</td>\n",
       "      <td>-103.0</td>\n",
       "      <td>31 days</td>\n",
       "      <td>9.243174</td>\n",
       "      <td>-0.037597</td>\n",
       "      <td>24.617067</td>\n",
       "    </tr>\n",
       "    <tr>\n",
       "      <th>140</th>\n",
       "      <td>1960-09-01</td>\n",
       "      <td>508</td>\n",
       "      <td>-98.0</td>\n",
       "      <td>-82.0</td>\n",
       "      <td>31 days</td>\n",
       "      <td>8.988685</td>\n",
       "      <td>-0.254489</td>\n",
       "      <td>22.538855</td>\n",
       "    </tr>\n",
       "    <tr>\n",
       "      <th>141</th>\n",
       "      <td>1960-10-01</td>\n",
       "      <td>461</td>\n",
       "      <td>-47.0</td>\n",
       "      <td>51.0</td>\n",
       "      <td>30 days</td>\n",
       "      <td>8.848623</td>\n",
       "      <td>-0.140062</td>\n",
       "      <td>21.470911</td>\n",
       "    </tr>\n",
       "    <tr>\n",
       "      <th>142</th>\n",
       "      <td>1960-11-01</td>\n",
       "      <td>390</td>\n",
       "      <td>-71.0</td>\n",
       "      <td>-24.0</td>\n",
       "      <td>31 days</td>\n",
       "      <td>8.607330</td>\n",
       "      <td>-0.241293</td>\n",
       "      <td>19.748418</td>\n",
       "    </tr>\n",
       "    <tr>\n",
       "      <th>143</th>\n",
       "      <td>1960-12-01</td>\n",
       "      <td>432</td>\n",
       "      <td>42.0</td>\n",
       "      <td>113.0</td>\n",
       "      <td>30 days</td>\n",
       "      <td>8.754888</td>\n",
       "      <td>0.147557</td>\n",
       "      <td>20.784610</td>\n",
       "    </tr>\n",
       "  </tbody>\n",
       "</table>\n",
       "<p>140 rows × 8 columns</p>\n",
       "</div>"
      ],
      "text/plain": [
       "         Month  #Passengers  Diff_passengers  Second_Passengers Diff_Month  \\\n",
       "4   1949-05-01          121             -8.0               -5.0    30 days   \n",
       "5   1949-06-01          135             14.0               22.0    31 days   \n",
       "6   1949-07-01          148             13.0               -1.0    30 days   \n",
       "7   1949-08-01          148              0.0              -13.0    31 days   \n",
       "8   1949-09-01          136            -12.0              -12.0    31 days   \n",
       "..         ...          ...              ...                ...        ...   \n",
       "139 1960-08-01          606            -16.0             -103.0    31 days   \n",
       "140 1960-09-01          508            -98.0              -82.0    31 days   \n",
       "141 1960-10-01          461            -47.0               51.0    30 days   \n",
       "142 1960-11-01          390            -71.0              -24.0    31 days   \n",
       "143 1960-12-01          432             42.0              113.0    30 days   \n",
       "\n",
       "     log_passengers  F_diff_log_passengers  sq_passengers  \n",
       "4          6.918863              -0.092364      11.000000  \n",
       "5          7.076816               0.157952      11.618950  \n",
       "6          7.209453               0.132638      12.165525  \n",
       "7          7.209453               0.000000      12.165525  \n",
       "8          7.087463              -0.121991      11.661904  \n",
       "..              ...                    ...            ...  \n",
       "139        9.243174              -0.037597      24.617067  \n",
       "140        8.988685              -0.254489      22.538855  \n",
       "141        8.848623              -0.140062      21.470911  \n",
       "142        8.607330              -0.241293      19.748418  \n",
       "143        8.754888               0.147557      20.784610  \n",
       "\n",
       "[140 rows x 8 columns]"
      ]
     },
     "execution_count": 31,
     "metadata": {},
     "output_type": "execute_result"
    }
   ],
   "source": [
    "# Required Libraries\n",
    "from statsmodels.tsa.stattools import acf\n",
    "import statsmodels.api as sm\n",
    "df"
   ]
  },
  {
   "cell_type": "code",
   "execution_count": 32,
   "id": "020aac9f",
   "metadata": {},
   "outputs": [
    {
     "data": {
      "image/png": "[encoded data removed]",
      "text/plain": [
       "<Figure size 432x288 with 1 Axes>"
      ]
     },
     "metadata": {
      "needs_background": "light"
     },
     "output_type": "display_data"
    }
   ],
   "source": [
    "org_acf = sm.graphics.tsa.plot_acf(df[\"#Passengers\"], lags=40)\n",
    "\n",
    "acf_passengers = acf(df[\"sq_passengers\"])"
   ]
  },
  {
   "cell_type": "code",
   "execution_count": 33,
   "id": "cfc8b44d",
   "metadata": {},
   "outputs": [
    {
     "data": {
      "image/png": "[encoded data removed]",
      "text/plain": [
       "<Figure size 432x288 with 1 Axes>"
      ]
     },
     "execution_count": 33,
     "metadata": {},
     "output_type": "execute_result"
    },
    {
     "data": {
      "image/png": "[encoded data removed]",
      "text/plain": [
       "<Figure size 432x288 with 1 Axes>"
      ]
     },
     "metadata": {
      "needs_background": "light"
     },
     "output_type": "display_data"
    }
   ],
   "source": [
    " sm.graphics.tsa.plot_pacf(df[\"#Passengers\"], lags=40, method=\"ywm\")"
   ]
  },
  {
   "cell_type": "markdown",
   "id": "faf8ba14",
   "metadata": {},
   "source": [
    "# Forecasting"
   ]
  },
  {
   "cell_type": "code",
   "execution_count": 34,
   "id": "50cea494",
   "metadata": {},
   "outputs": [],
   "source": [
    "from statsmodels.tsa.arima.model import ARIMA"
   ]
  },
  {
   "cell_type": "code",
   "execution_count": 57,
   "id": "d3e6ecf1",
   "metadata": {},
   "outputs": [],
   "source": [
    "df = df.set_index(df[\"Month\"], drop=True)\n",
    "df = df.drop(\"Month\", axis=1)"
   ]
  },
  {
   "cell_type": "code",
   "execution_count": 58,
   "id": "70004516",
   "metadata": {},
   "outputs": [
    {
     "data": {
      "text/html": [
       "<div>\n",
       "<style scoped>\n",
       "    .dataframe tbody tr th:only-of-type {\n",
       "        vertical-align: middle;\n",
       "    }\n",
       "\n",
       "    .dataframe tbody tr th {\n",
       "        vertical-align: top;\n",
       "    }\n",
       "\n",
       "    .dataframe thead th {\n",
       "        text-align: right;\n",
       "    }\n",
       "</style>\n",
       "<table border=\"1\" class=\"dataframe\">\n",
       "  <thead>\n",
       "    <tr style=\"text-align: right;\">\n",
       "      <th></th>\n",
       "      <th>#Passengers</th>\n",
       "      <th>Diff_passengers</th>\n",
       "      <th>Second_Passengers</th>\n",
       "      <th>Diff_Month</th>\n",
       "      <th>log_passengers</th>\n",
       "      <th>F_diff_log_passengers</th>\n",
       "      <th>sq_passengers</th>\n",
       "    </tr>\n",
       "    <tr>\n",
       "      <th>Month</th>\n",
       "      <th></th>\n",
       "      <th></th>\n",
       "      <th></th>\n",
       "      <th></th>\n",
       "      <th></th>\n",
       "      <th></th>\n",
       "      <th></th>\n",
       "    </tr>\n",
       "  </thead>\n",
       "  <tbody>\n",
       "    <tr>\n",
       "      <th>1949-05-01</th>\n",
       "      <td>121</td>\n",
       "      <td>-8.0</td>\n",
       "      <td>-5.0</td>\n",
       "      <td>30 days</td>\n",
       "      <td>6.918863</td>\n",
       "      <td>-0.092364</td>\n",
       "      <td>11.000000</td>\n",
       "    </tr>\n",
       "    <tr>\n",
       "      <th>1949-06-01</th>\n",
       "      <td>135</td>\n",
       "      <td>14.0</td>\n",
       "      <td>22.0</td>\n",
       "      <td>31 days</td>\n",
       "      <td>7.076816</td>\n",
       "      <td>0.157952</td>\n",
       "      <td>11.618950</td>\n",
       "    </tr>\n",
       "    <tr>\n",
       "      <th>1949-07-01</th>\n",
       "      <td>148</td>\n",
       "      <td>13.0</td>\n",
       "      <td>-1.0</td>\n",
       "      <td>30 days</td>\n",
       "      <td>7.209453</td>\n",
       "      <td>0.132638</td>\n",
       "      <td>12.165525</td>\n",
       "    </tr>\n",
       "    <tr>\n",
       "      <th>1949-08-01</th>\n",
       "      <td>148</td>\n",
       "      <td>0.0</td>\n",
       "      <td>-13.0</td>\n",
       "      <td>31 days</td>\n",
       "      <td>7.209453</td>\n",
       "      <td>0.000000</td>\n",
       "      <td>12.165525</td>\n",
       "    </tr>\n",
       "    <tr>\n",
       "      <th>1949-09-01</th>\n",
       "      <td>136</td>\n",
       "      <td>-12.0</td>\n",
       "      <td>-12.0</td>\n",
       "      <td>31 days</td>\n",
       "      <td>7.087463</td>\n",
       "      <td>-0.121991</td>\n",
       "      <td>11.661904</td>\n",
       "    </tr>\n",
       "    <tr>\n",
       "      <th>...</th>\n",
       "      <td>...</td>\n",
       "      <td>...</td>\n",
       "      <td>...</td>\n",
       "      <td>...</td>\n",
       "      <td>...</td>\n",
       "      <td>...</td>\n",
       "      <td>...</td>\n",
       "    </tr>\n",
       "    <tr>\n",
       "      <th>1960-08-01</th>\n",
       "      <td>606</td>\n",
       "      <td>-16.0</td>\n",
       "      <td>-103.0</td>\n",
       "      <td>31 days</td>\n",
       "      <td>9.243174</td>\n",
       "      <td>-0.037597</td>\n",
       "      <td>24.617067</td>\n",
       "    </tr>\n",
       "    <tr>\n",
       "      <th>1960-09-01</th>\n",
       "      <td>508</td>\n",
       "      <td>-98.0</td>\n",
       "      <td>-82.0</td>\n",
       "      <td>31 days</td>\n",
       "      <td>8.988685</td>\n",
       "      <td>-0.254489</td>\n",
       "      <td>22.538855</td>\n",
       "    </tr>\n",
       "    <tr>\n",
       "      <th>1960-10-01</th>\n",
       "      <td>461</td>\n",
       "      <td>-47.0</td>\n",
       "      <td>51.0</td>\n",
       "      <td>30 days</td>\n",
       "      <td>8.848623</td>\n",
       "      <td>-0.140062</td>\n",
       "      <td>21.470911</td>\n",
       "    </tr>\n",
       "    <tr>\n",
       "      <th>1960-11-01</th>\n",
       "      <td>390</td>\n",
       "      <td>-71.0</td>\n",
       "      <td>-24.0</td>\n",
       "      <td>31 days</td>\n",
       "      <td>8.607330</td>\n",
       "      <td>-0.241293</td>\n",
       "      <td>19.748418</td>\n",
       "    </tr>\n",
       "    <tr>\n",
       "      <th>1960-12-01</th>\n",
       "      <td>432</td>\n",
       "      <td>42.0</td>\n",
       "      <td>113.0</td>\n",
       "      <td>30 days</td>\n",
       "      <td>8.754888</td>\n",
       "      <td>0.147557</td>\n",
       "      <td>20.784610</td>\n",
       "    </tr>\n",
       "  </tbody>\n",
       "</table>\n",
       "<p>140 rows × 7 columns</p>\n",
       "</div>"
      ],
      "text/plain": [
       "            #Passengers  Diff_passengers  Second_Passengers Diff_Month  \\\n",
       "Month                                                                    \n",
       "1949-05-01          121             -8.0               -5.0    30 days   \n",
       "1949-06-01          135             14.0               22.0    31 days   \n",
       "1949-07-01          148             13.0               -1.0    30 days   \n",
       "1949-08-01          148              0.0              -13.0    31 days   \n",
       "1949-09-01          136            -12.0              -12.0    31 days   \n",
       "...                 ...              ...                ...        ...   \n",
       "1960-08-01          606            -16.0             -103.0    31 days   \n",
       "1960-09-01          508            -98.0              -82.0    31 days   \n",
       "1960-10-01          461            -47.0               51.0    30 days   \n",
       "1960-11-01          390            -71.0              -24.0    31 days   \n",
       "1960-12-01          432             42.0              113.0    30 days   \n",
       "\n",
       "            log_passengers  F_diff_log_passengers  sq_passengers  \n",
       "Month                                                             \n",
       "1949-05-01        6.918863              -0.092364      11.000000  \n",
       "1949-06-01        7.076816               0.157952      11.618950  \n",
       "1949-07-01        7.209453               0.132638      12.165525  \n",
       "1949-08-01        7.209453               0.000000      12.165525  \n",
       "1949-09-01        7.087463              -0.121991      11.661904  \n",
       "...                    ...                    ...            ...  \n",
       "1960-08-01        9.243174              -0.037597      24.617067  \n",
       "1960-09-01        8.988685              -0.254489      22.538855  \n",
       "1960-10-01        8.848623              -0.140062      21.470911  \n",
       "1960-11-01        8.607330              -0.241293      19.748418  \n",
       "1960-12-01        8.754888               0.147557      20.784610  \n",
       "\n",
       "[140 rows x 7 columns]"
      ]
     },
     "execution_count": 58,
     "metadata": {},
     "output_type": "execute_result"
    }
   ],
   "source": [
    "df"
   ]
  },
  {
   "cell_type": "code",
   "execution_count": 84,
   "id": "e0cf7ea1",
   "metadata": {},
   "outputs": [
    {
     "data": {
      "text/plain": [
       "Month\n",
       "1958-01-01    -27.0\n",
       "1958-02-01    -26.0\n",
       "1958-03-01     66.0\n",
       "1958-04-01    -58.0\n",
       "1958-05-01     29.0\n",
       "1958-06-01     57.0\n",
       "1958-07-01    -16.0\n",
       "1958-08-01    -42.0\n",
       "1958-09-01   -115.0\n",
       "1958-10-01     56.0\n",
       "1958-11-01     -4.0\n",
       "1958-12-01     76.0\n",
       "1959-01-01     -4.0\n",
       "1959-02-01    -41.0\n",
       "1959-03-01     82.0\n",
       "1959-04-01    -74.0\n",
       "1959-05-01     34.0\n",
       "1959-06-01     28.0\n",
       "1959-07-01     24.0\n",
       "1959-08-01    -65.0\n",
       "1959-09-01   -107.0\n",
       "1959-10-01     40.0\n",
       "1959-11-01     11.0\n",
       "1959-12-01     88.0\n",
       "1960-01-01    -31.0\n",
       "1960-02-01    -38.0\n",
       "1960-03-01     54.0\n",
       "1960-04-01     14.0\n",
       "1960-05-01    -31.0\n",
       "1960-06-01     52.0\n",
       "1960-07-01     24.0\n",
       "1960-08-01   -103.0\n",
       "1960-09-01    -82.0\n",
       "1960-10-01     51.0\n",
       "1960-11-01    -24.0\n",
       "1960-12-01    113.0\n",
       "Name: Second_Passengers, dtype: float64"
      ]
     },
     "execution_count": 84,
     "metadata": {},
     "output_type": "execute_result"
    }
   ],
   "source": [
    "test = df[\"Second_Passengers\"].iloc[104:]\n",
    "test"
   ]
  },
  {
   "cell_type": "code",
   "execution_count": 85,
   "id": "7b07299e",
   "metadata": {},
   "outputs": [
    {
     "data": {
      "text/plain": [
       "Month\n",
       "1949-05-01    -5.0\n",
       "1949-06-01    22.0\n",
       "1949-07-01    -1.0\n",
       "1949-08-01   -13.0\n",
       "1949-09-01   -12.0\n",
       "              ... \n",
       "1957-08-01   -41.0\n",
       "1957-09-01   -65.0\n",
       "1957-10-01     6.0\n",
       "1957-11-01    15.0\n",
       "1957-12-01    73.0\n",
       "Name: Second_Passengers, Length: 104, dtype: float64"
      ]
     },
     "execution_count": 85,
     "metadata": {},
     "output_type": "execute_result"
    }
   ],
   "source": [
    "train = df[\"Second_Passengers\"].iloc[0:104]\n",
    "train"
   ]
  },
  {
   "cell_type": "code",
   "execution_count": 86,
   "id": "13d2961f",
   "metadata": {},
   "outputs": [
    {
     "data": {
      "text/plain": [
       "pandas.core.series.Series"
      ]
     },
     "execution_count": 86,
     "metadata": {},
     "output_type": "execute_result"
    }
   ],
   "source": [
    "type(train)"
   ]
  },
  {
   "cell_type": "code",
   "execution_count": 96,
   "id": "b8917077",
   "metadata": {},
   "outputs": [
    {
     "name": "stdout",
     "output_type": "stream",
     "text": [
      "Package                         Version\n",
      "------------------------------- ---------\n",
      "anyio                           3.3.4\n",
      "apache-airflow                  2.2.2\n",
      "apache-airflow-providers-ftp    2.0.1\n",
      "apache-airflow-providers-http   2.0.1\n",
      "apache-airflow-providers-imap   2.0.1\n",
      "apache-airflow-providers-sqlite 2.0.1\n",
      "argcomplete                     1.12.3\n",
      "argon2-cffi                     21.3.0\n",
      "argon2-cffi-bindings            21.2.0\n",
      "attrs                           21.2.0\n",
      "Babel                           2.9.1\n",
      "backcall                        0.2.0\n",
      "bleach                          4.1.0\n",
      "blinker                         1.4\n",
      "cached-property                 1.5.2\n",
      "cattrs                          1.5.0\n",
      "certifi                         2021.10.8\n",
      "cffi                            1.15.0\n",
      "colorama                        0.4.4\n",
      "colorlog                        4.8.0\n",
      "commonmark                      0.9.1\n",
      "connexion                       2.7.0\n",
      "croniter                        1.0.15\n",
      "cryptography                    3.4.8\n",
      "cycler                          0.11.0\n",
      "debugpy                         1.5.1\n",
      "decorator                       5.1.0\n",
      "defusedxml                      0.7.1\n",
      "dill                            0.3.1.1\n",
      "dnspython                       2.1.0\n",
      "docutils                        0.16\n",
      "email-validator                 1.1.3\n",
      "entrypoints                     0.3\n",
      "Flask                           1.1.2\n",
      "Flask-AppBuilder                3.3.4\n",
      "Flask-Babel                     2.0.0\n",
      "Flask-Caching                   1.10.1\n",
      "Flask-JWT-Extended              3.25.1\n",
      "Flask-Login                     0.4.1\n",
      "Flask-OpenID                    1.3.0\n",
      "Flask-SQLAlchemy                2.5.1\n",
      "Flask-WTF                       0.14.3\n",
      "fonttools                       4.28.3\n",
      "graphviz                        0.18\n",
      "gunicorn                        20.1.0\n",
      "h11                             0.12.0\n",
      "httpcore                        0.13.7\n",
      "httpx                           0.20.0\n",
      "idna                            3.3\n",
      "importlib-resources             1.5.0\n",
      "ipykernel                       6.6.0\n",
      "ipython                         7.30.1\n",
      "ipython-genutils                0.2.0\n",
      "iso8601                         1.0.0\n",
      "isodate                         0.6.0\n",
      "jedi                            0.18.1\n",
      "Jinja2                          3.0.3\n",
      "joblib                          1.1.0\n",
      "jsonschema                      4.2.1\n",
      "jupyter-client                  7.1.0\n",
      "jupyter-core                    4.9.1\n",
      "jupyterlab-pygments             0.1.2\n",
      "kiwisolver                      1.3.2\n",
      "lazy-object-proxy               1.4.3\n",
      "lockfile                        0.12.2\n",
      "Mako                            1.1.5\n",
      "Markdown                        3.3.4\n",
      "MarkupSafe                      2.0.1\n",
      "marshmallow                     3.14.0\n",
      "marshmallow-enum                1.5.1\n",
      "marshmallow-oneofschema         3.0.1\n",
      "marshmallow-sqlalchemy          0.26.1\n",
      "matplotlib                      3.5.1\n",
      "matplotlib-inline               0.1.3\n",
      "mistune                         0.8.4\n",
      "natsort                         7.1.1\n",
      "nbclient                        0.5.9\n",
      "nbconvert                       6.3.0\n",
      "nbformat                        5.1.3\n",
      "nest-asyncio                    1.5.4\n",
      "notebook                        6.4.6\n",
      "numpy                           1.20.3\n",
      "openapi-schema-validator        0.1.5\n",
      "openapi-spec-validator          0.3.1\n",
      "packaging                       21.0\n",
      "pandas                          1.3.0\n",
      "pandocfilters                   1.5.0\n",
      "parso                           0.8.3\n",
      "patsy                           0.5.2\n",
      "pendulum                        2.1.2\n",
      "pickleshare                     0.7.5\n",
      "Pillow                          8.4.0\n",
      "pip                             21.2.4\n",
      "prison                          0.2.1\n",
      "prometheus-client               0.12.0\n",
      "prompt-toolkit                  3.0.24\n",
      "psutil                          5.8.0\n",
      "pycparser                       2.21\n",
      "Pygments                        2.10.0\n",
      "pyparsing                       3.0.6\n",
      "pyrsistent                      0.18.0\n",
      "python-daemon                   2.3.0\n",
      "python-dateutil                 2.8.2\n",
      "python-nvd3                     0.15.0\n",
      "pytz                            2021.3\n",
      "pywin32                         302\n",
      "pywinpty                        1.1.6\n",
      "pyzmq                           22.3.0\n",
      "requests                        2.26.0\n",
      "rfc3986                         1.5.0\n",
      "rich                            10.13.0\n",
      "scikit-learn                    1.0.2\n",
      "scipy                           1.7.3\n",
      "Send2Trash                      1.8.0\n",
      "setproctitle                    1.2.2\n",
      "setuptools                      58.0.4\n",
      "six                             1.16.0\n",
      "sniffio                         1.2.0\n",
      "SQLAlchemy                      1.3.24\n",
      "SQLAlchemy-JSONField            1.0.0\n",
      "SQLAlchemy-Utils                0.37.9\n",
      "statsmodels                     0.13.1\n",
      "swagger-ui-bundle               0.0.9\n",
      "tabulate                        0.8.9\n",
      "tenacity                        8.0.1\n",
      "termcolor                       1.1.0\n",
      "terminado                       0.12.1\n",
      "testpath                        0.5.0\n",
      "threadpoolctl                   3.0.0\n",
      "tornado                         6.1\n",
      "traitlets                       5.1.1\n",
      "unicodecsv                      0.14.1\n",
      "urllib3                         1.26.7\n",
      "wcwidth                         0.2.5\n",
      "webencodings                    0.5.1\n",
      "wheel                           0.37.0\n",
      "wincertstore                    0.2\n"
     ]
    }
   ],
   "source": [
    "!pip list"
   ]
  },
  {
   "cell_type": "code",
   "execution_count": 106,
   "id": "9d543536",
   "metadata": {},
   "outputs": [
    {
     "name": "stderr",
     "output_type": "stream",
     "text": [
      "C:\\Users\\sarve\\miniconda3\\envs\\TimeSeriesEnv\\lib\\site-packages\\statsmodels\\tsa\\base\\tsa_model.py:536: ValueWarning: No frequency information was provided, so inferred frequency MS will be used.\n",
      "  warnings.warn('No frequency information was'\n",
      "C:\\Users\\sarve\\miniconda3\\envs\\TimeSeriesEnv\\lib\\site-packages\\statsmodels\\tsa\\base\\tsa_model.py:536: ValueWarning: No frequency information was provided, so inferred frequency MS will be used.\n",
      "  warnings.warn('No frequency information was'\n",
      "C:\\Users\\sarve\\miniconda3\\envs\\TimeSeriesEnv\\lib\\site-packages\\statsmodels\\tsa\\base\\tsa_model.py:536: ValueWarning: No frequency information was provided, so inferred frequency MS will be used.\n",
      "  warnings.warn('No frequency information was'\n",
      "C:\\Users\\sarve\\miniconda3\\envs\\TimeSeriesEnv\\lib\\site-packages\\statsmodels\\tsa\\statespace\\sarimax.py:978: UserWarning: Non-invertible starting MA parameters found. Using zeros as starting parameters.\n",
      "  warn('Non-invertible starting MA parameters found.'\n",
      "C:\\Users\\sarve\\miniconda3\\envs\\TimeSeriesEnv\\lib\\site-packages\\statsmodels\\base\\model.py:604: ConvergenceWarning: Maximum Likelihood optimization failed to converge. Check mle_retvals\n",
      "  warnings.warn(\"Maximum Likelihood optimization failed to \"\n"
     ]
    },
    {
     "data": {
      "text/html": [
       "<table class=\"simpletable\">\n",
       "<caption>SARIMAX Results</caption>\n",
       "<tr>\n",
       "  <th>Dep. Variable:</th>   <td>Second_Passengers</td> <th>  No. Observations:  </th>    <td>104</td>  \n",
       "</tr>\n",
       "<tr>\n",
       "  <th>Model:</th>            <td>ARIMA(3, 0, 13)</td>  <th>  Log Likelihood     </th> <td>-440.596</td>\n",
       "</tr>\n",
       "<tr>\n",
       "  <th>Date:</th>            <td>Wed, 19 Jan 2022</td>  <th>  AIC                </th>  <td>917.192</td>\n",
       "</tr>\n",
       "<tr>\n",
       "  <th>Time:</th>                <td>16:16:42</td>      <th>  BIC                </th>  <td>964.791</td>\n",
       "</tr>\n",
       "<tr>\n",
       "  <th>Sample:</th>             <td>05-01-1949</td>     <th>  HQIC               </th>  <td>936.476</td>\n",
       "</tr>\n",
       "<tr>\n",
       "  <th></th>                   <td>- 12-01-1957</td>    <th>                     </th>     <td> </td>   \n",
       "</tr>\n",
       "<tr>\n",
       "  <th>Covariance Type:</th>        <td>opg</td>        <th>                     </th>     <td> </td>   \n",
       "</tr>\n",
       "</table>\n",
       "<table class=\"simpletable\">\n",
       "<tr>\n",
       "     <td></td>       <th>coef</th>     <th>std err</th>      <th>z</th>      <th>P>|z|</th>  <th>[0.025</th>    <th>0.975]</th>  \n",
       "</tr>\n",
       "<tr>\n",
       "  <th>const</th>  <td>    0.0218</td> <td>    0.006</td> <td>    3.855</td> <td> 0.000</td> <td>    0.011</td> <td>    0.033</td>\n",
       "</tr>\n",
       "<tr>\n",
       "  <th>ar.L1</th>  <td>    0.2845</td> <td>    0.258</td> <td>    1.102</td> <td> 0.270</td> <td>   -0.221</td> <td>    0.790</td>\n",
       "</tr>\n",
       "<tr>\n",
       "  <th>ar.L2</th>  <td>   -0.4486</td> <td>    0.169</td> <td>   -2.661</td> <td> 0.008</td> <td>   -0.779</td> <td>   -0.118</td>\n",
       "</tr>\n",
       "<tr>\n",
       "  <th>ar.L3</th>  <td>    0.0554</td> <td>    0.255</td> <td>    0.217</td> <td> 0.828</td> <td>   -0.445</td> <td>    0.556</td>\n",
       "</tr>\n",
       "<tr>\n",
       "  <th>ma.L1</th>  <td>   -1.1904</td> <td>  128.271</td> <td>   -0.009</td> <td> 0.993</td> <td> -252.597</td> <td>  250.217</td>\n",
       "</tr>\n",
       "<tr>\n",
       "  <th>ma.L2</th>  <td>    0.3171</td> <td>  363.394</td> <td>    0.001</td> <td> 0.999</td> <td> -711.922</td> <td>  712.556</td>\n",
       "</tr>\n",
       "<tr>\n",
       "  <th>ma.L3</th>  <td>   -0.4228</td> <td>  934.240</td> <td>   -0.000</td> <td> 1.000</td> <td>-1831.500</td> <td> 1830.655</td>\n",
       "</tr>\n",
       "<tr>\n",
       "  <th>ma.L4</th>  <td>   -0.1441</td> <td>  183.796</td> <td>   -0.001</td> <td> 0.999</td> <td> -360.378</td> <td>  360.090</td>\n",
       "</tr>\n",
       "<tr>\n",
       "  <th>ma.L5</th>  <td>    0.4399</td> <td>  590.535</td> <td>    0.001</td> <td> 0.999</td> <td>-1156.987</td> <td> 1157.867</td>\n",
       "</tr>\n",
       "<tr>\n",
       "  <th>ma.L6</th>  <td>   -0.3700</td> <td>  474.193</td> <td>   -0.001</td> <td> 0.999</td> <td> -929.771</td> <td>  929.031</td>\n",
       "</tr>\n",
       "<tr>\n",
       "  <th>ma.L7</th>  <td>    0.5419</td> <td>  173.112</td> <td>    0.003</td> <td> 0.998</td> <td> -338.751</td> <td>  339.835</td>\n",
       "</tr>\n",
       "<tr>\n",
       "  <th>ma.L8</th>  <td>   -0.8433</td> <td>  409.443</td> <td>   -0.002</td> <td> 0.998</td> <td> -803.337</td> <td>  801.651</td>\n",
       "</tr>\n",
       "<tr>\n",
       "  <th>ma.L9</th>  <td>    0.8203</td> <td>  192.051</td> <td>    0.004</td> <td> 0.997</td> <td> -375.593</td> <td>  377.234</td>\n",
       "</tr>\n",
       "<tr>\n",
       "  <th>ma.L10</th> <td>   -0.4784</td> <td>  873.686</td> <td>   -0.001</td> <td> 1.000</td> <td>-1712.871</td> <td> 1711.914</td>\n",
       "</tr>\n",
       "<tr>\n",
       "  <th>ma.L11</th> <td>    0.5288</td> <td>  609.242</td> <td>    0.001</td> <td> 0.999</td> <td>-1193.563</td> <td> 1194.620</td>\n",
       "</tr>\n",
       "<tr>\n",
       "  <th>ma.L12</th> <td>    0.5245</td> <td>  393.800</td> <td>    0.001</td> <td> 0.999</td> <td> -771.308</td> <td>  772.357</td>\n",
       "</tr>\n",
       "<tr>\n",
       "  <th>ma.L13</th> <td>   -0.7228</td> <td>  414.884</td> <td>   -0.002</td> <td> 0.999</td> <td> -813.881</td> <td>  812.436</td>\n",
       "</tr>\n",
       "<tr>\n",
       "  <th>sigma2</th> <td>  206.2298</td> <td> 1.18e+05</td> <td>    0.002</td> <td> 0.999</td> <td>-2.32e+05</td> <td> 2.32e+05</td>\n",
       "</tr>\n",
       "</table>\n",
       "<table class=\"simpletable\">\n",
       "<tr>\n",
       "  <th>Ljung-Box (L1) (Q):</th>     <td>0.26</td> <th>  Jarque-Bera (JB):  </th> <td>1.47</td>\n",
       "</tr>\n",
       "<tr>\n",
       "  <th>Prob(Q):</th>                <td>0.61</td> <th>  Prob(JB):          </th> <td>0.48</td>\n",
       "</tr>\n",
       "<tr>\n",
       "  <th>Heteroskedasticity (H):</th> <td>4.41</td> <th>  Skew:              </th> <td>0.28</td>\n",
       "</tr>\n",
       "<tr>\n",
       "  <th>Prob(H) (two-sided):</th>    <td>0.00</td> <th>  Kurtosis:          </th> <td>2.81</td>\n",
       "</tr>\n",
       "</table><br/><br/>Warnings:<br/>[1] Covariance matrix calculated using the outer product of gradients (complex-step).<br/>[2] Covariance matrix is singular or near-singular, with condition number 9.26e+14. Standard errors may be unstable."
      ],
      "text/plain": [
       "<class 'statsmodels.iolib.summary.Summary'>\n",
       "\"\"\"\n",
       "                               SARIMAX Results                                \n",
       "==============================================================================\n",
       "Dep. Variable:      Second_Passengers   No. Observations:                  104\n",
       "Model:                ARIMA(3, 0, 13)   Log Likelihood                -440.596\n",
       "Date:                Wed, 19 Jan 2022   AIC                            917.192\n",
       "Time:                        16:16:42   BIC                            964.791\n",
       "Sample:                    05-01-1949   HQIC                           936.476\n",
       "                         - 12-01-1957                                         \n",
       "Covariance Type:                  opg                                         \n",
       "==============================================================================\n",
       "                 coef    std err          z      P>|z|      [0.025      0.975]\n",
       "------------------------------------------------------------------------------\n",
       "const          0.0218      0.006      3.855      0.000       0.011       0.033\n",
       "ar.L1          0.2845      0.258      1.102      0.270      -0.221       0.790\n",
       "ar.L2         -0.4486      0.169     -2.661      0.008      -0.779      -0.118\n",
       "ar.L3          0.0554      0.255      0.217      0.828      -0.445       0.556\n",
       "ma.L1         -1.1904    128.271     -0.009      0.993    -252.597     250.217\n",
       "ma.L2          0.3171    363.394      0.001      0.999    -711.922     712.556\n",
       "ma.L3         -0.4228    934.240     -0.000      1.000   -1831.500    1830.655\n",
       "ma.L4         -0.1441    183.796     -0.001      0.999    -360.378     360.090\n",
       "ma.L5          0.4399    590.535      0.001      0.999   -1156.987    1157.867\n",
       "ma.L6         -0.3700    474.193     -0.001      0.999    -929.771     929.031\n",
       "ma.L7          0.5419    173.112      0.003      0.998    -338.751     339.835\n",
       "ma.L8         -0.8433    409.443     -0.002      0.998    -803.337     801.651\n",
       "ma.L9          0.8203    192.051      0.004      0.997    -375.593     377.234\n",
       "ma.L10        -0.4784    873.686     -0.001      1.000   -1712.871    1711.914\n",
       "ma.L11         0.5288    609.242      0.001      0.999   -1193.563    1194.620\n",
       "ma.L12         0.5245    393.800      0.001      0.999    -771.308     772.357\n",
       "ma.L13        -0.7228    414.884     -0.002      0.999    -813.881     812.436\n",
       "sigma2       206.2298   1.18e+05      0.002      0.999   -2.32e+05    2.32e+05\n",
       "===================================================================================\n",
       "Ljung-Box (L1) (Q):                   0.26   Jarque-Bera (JB):                 1.47\n",
       "Prob(Q):                              0.61   Prob(JB):                         0.48\n",
       "Heteroskedasticity (H):               4.41   Skew:                             0.28\n",
       "Prob(H) (two-sided):                  0.00   Kurtosis:                         2.81\n",
       "===================================================================================\n",
       "\n",
       "Warnings:\n",
       "[1] Covariance matrix calculated using the outer product of gradients (complex-step).\n",
       "[2] Covariance matrix is singular or near-singular, with condition number 9.26e+14. Standard errors may be unstable.\n",
       "\"\"\""
      ]
     },
     "execution_count": 106,
     "metadata": {},
     "output_type": "execute_result"
    }
   ],
   "source": [
    "arma = ARIMA(train, order = (3,0,13)).fit()\n",
    "arma.summary()"
   ]
  },
  {
   "cell_type": "code",
   "execution_count": 88,
   "id": "d90fe782",
   "metadata": {},
   "outputs": [
    {
     "data": {
      "text/plain": [
       "Month\n",
       "1949-05-01    -5.0\n",
       "1949-06-01    22.0\n",
       "1949-07-01    -1.0\n",
       "1949-08-01   -13.0\n",
       "1949-09-01   -12.0\n",
       "              ... \n",
       "1957-08-01   -41.0\n",
       "1957-09-01   -65.0\n",
       "1957-10-01     6.0\n",
       "1957-11-01    15.0\n",
       "1957-12-01    73.0\n",
       "Name: Second_Passengers, Length: 104, dtype: float64"
      ]
     },
     "execution_count": 88,
     "metadata": {},
     "output_type": "execute_result"
    }
   ],
   "source": [
    "df[\"Second_Passengers\"].iloc[:104]"
   ]
  },
  {
   "cell_type": "code",
   "execution_count": 107,
   "id": "4af0cb22",
   "metadata": {},
   "outputs": [
    {
     "data": {
      "text/plain": [
       "1958-01-01   -10.986354\n",
       "Freq: MS, dtype: float64"
      ]
     },
     "execution_count": 107,
     "metadata": {},
     "output_type": "execute_result"
    }
   ],
   "source": [
    "arma.forecast()"
   ]
  },
  {
   "cell_type": "code",
   "execution_count": 108,
   "id": "d6e1a9c5",
   "metadata": {},
   "outputs": [
    {
     "data": {
      "text/plain": [
       "DatetimeIndex(['1949-05-01', '1949-06-01', '1949-07-01', '1949-08-01',\n",
       "               '1949-09-01', '1949-10-01', '1949-11-01', '1949-12-01',\n",
       "               '1950-01-01', '1950-02-01',\n",
       "               ...\n",
       "               '1957-03-01', '1957-04-01', '1957-05-01', '1957-06-01',\n",
       "               '1957-07-01', '1957-08-01', '1957-09-01', '1957-10-01',\n",
       "               '1957-11-01', '1957-12-01'],\n",
       "              dtype='datetime64[ns]', name='Month', length=104, freq=None)"
      ]
     },
     "execution_count": 108,
     "metadata": {},
     "output_type": "execute_result"
    }
   ],
   "source": [
    "train.index"
   ]
  },
  {
   "cell_type": "code",
   "execution_count": 105,
   "id": "5acff3ca",
   "metadata": {},
   "outputs": [
    {
     "data": {
      "text/plain": [
       "statsmodels.tsa.arima.model.ARIMAResultsWrapper"
      ]
     },
     "execution_count": 105,
     "metadata": {},
     "output_type": "execute_result"
    }
   ],
   "source": [
    "# start_date = test.index[0]\n",
    "type(test.index[0])\n",
    "type(arma)"
   ]
  },
  {
   "cell_type": "code",
   "execution_count": 97,
   "id": "7613b5e1",
   "metadata": {},
   "outputs": [
    {
     "name": "stdout",
     "output_type": "stream",
     "text": [
      "1958-01-01\n"
     ]
    }
   ],
   "source": [
    "from datetime import datetime\n",
    "start_date = datetime(1958,1,1).date()\n",
    "end_date = datetime(1960,12,1).date()\n",
    "print(start_date)\n"
   ]
  },
  {
   "cell_type": "code",
   "execution_count": 110,
   "id": "f7a00640",
   "metadata": {},
   "outputs": [],
   "source": [
    "predicted_values = arma.predict(start= test.index[0], end= test.index[-1])  "
   ]
  },
  {
   "cell_type": "code",
   "execution_count": 111,
   "id": "e6a130aa",
   "metadata": {},
   "outputs": [
    {
     "data": {
      "text/plain": [
       "<AxesSubplot:>"
      ]
     },
     "execution_count": 111,
     "metadata": {},
     "output_type": "execute_result"
    },
    {
     "data": {
      "image/png": "[encoded data removed]",
      "text/plain": [
       "<Figure size 432x288 with 1 Axes>"
      ]
     },
     "metadata": {
      "needs_background": "light"
     },
     "output_type": "display_data"
    }
   ],
   "source": [
    "predicted_values.plot()"
   ]
  },
  {
   "cell_type": "code",
   "execution_count": 112,
   "id": "df4e8835",
   "metadata": {},
   "outputs": [
    {
     "data": {
      "text/plain": [
       "<AxesSubplot:xlabel='Month'>"
      ]
     },
     "execution_count": 112,
     "metadata": {},
     "output_type": "execute_result"
    },
    {
     "data": {
      "image/png": "[encoded data removed]",
      "text/plain": [
       "<Figure size 432x288 with 1 Axes>"
      ]
     },
     "metadata": {
      "needs_background": "light"
     },
     "output_type": "display_data"
    }
   ],
   "source": [
    "test.plot()"
   ]
  },
  {
   "cell_type": "code",
   "execution_count": null,
   "id": "09b2ef26",
   "metadata": {},
   "outputs": [],
   "source": []
  },
  {
   "cell_type": "code",
   "execution_count": null,
   "id": "5ecd5654",
   "metadata": {},
   "outputs": [],
   "source": []
  }
 ],
 "metadata": {
  "kernelspec": {
   "display_name": "Python 3 (ipykernel)",
   "language": "python",
   "name": "python3"
  },
  "language_info": {
   "codemirror_mode": {
    "name": "ipython",
    "version": 3
   },
   "file_extension": ".py",
   "mimetype": "text/x-python",
   "name": "python",
   "nbconvert_exporter": "python",
   "pygments_lexer": "ipython3",
   "version": "3.8.12"
  }
 },
 "nbformat": 4,
 "nbformat_minor": 5
}
